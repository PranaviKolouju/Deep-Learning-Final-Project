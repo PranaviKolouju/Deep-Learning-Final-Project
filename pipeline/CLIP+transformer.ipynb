{
 "cells": [
  {
   "cell_type": "code",
   "execution_count": null,
   "metadata": {},
   "outputs": [
    {
     "name": "stderr",
     "output_type": "stream",
     "text": [
      "preprocessor_config.json: 100%|██████████| 432/432 [00:00<00:00, 1.37MB/s]\n",
      "tokenizer_config.json: 100%|██████████| 904/904 [00:00<00:00, 2.86MB/s]\n",
      "vocab.json: 100%|██████████| 798k/798k [00:00<00:00, 7.12MB/s]\n",
      "merges.txt: 100%|██████████| 456k/456k [00:00<00:00, 14.6MB/s]\n",
      "tokenizer.json: 100%|██████████| 2.11M/2.11M [00:00<00:00, 12.1MB/s]\n",
      "special_tokens_map.json: 100%|██████████| 548/548 [00:00<00:00, 1.39MB/s]\n",
      "config.json: 100%|██████████| 6.96k/6.96k [00:00<00:00, 13.7MB/s]\n",
      "model.safetensors.index.json: 100%|██████████| 127k/127k [00:00<00:00, 75.5MB/s]\n",
      "model-00001-of-00002.safetensors: 100%|██████████| 10.0G/10.0G [03:43<00:00, 44.8MB/s]\n",
      "model-00002-of-00002.safetensors: 100%|██████████| 5.50G/5.50G [02:02<00:00, 45.0MB/s]\n",
      "Downloading shards: 100%|██████████| 2/2 [05:46<00:00, 173.26s/it]\n",
      "Loading checkpoint shards: 100%|██████████| 2/2 [01:32<00:00, 46.21s/it]\n",
      "/Library/Frameworks/Python.framework/Versions/3.12/lib/python3.12/site-packages/transformers/generation/utils.py:1133: UserWarning: Using the model-agnostic default `max_length` (=20) to control the generation length. We recommend setting `max_new_tokens` to control the maximum length of the generation.\n",
      "  warnings.warn(\n"
     ]
    },
    {
     "name": "stdout",
     "output_type": "stream",
     "text": [
      "Generated Caption: a snow leopard is resting on a rock\n",
      "\n"
     ]
    }
   ],
   "source": [
    "import torch\n",
    "from PIL import Image\n",
    "from transformers import CLIPProcessor, CLIPModel, Blip2Processor, Blip2ForConditionalGeneration\n",
    "\n",
    "# Load the reconstructed image (will eventually be the MinD-Vis output)\n",
    "reconstructed_image = Image.open(\"../test_images/n02128757_snow_leopard.JPEG\")\n",
    "\n",
    "# Load CLIP model and processor\n",
    "clip_model = CLIPModel.from_pretrained(\"openai/clip-vit-base-patch32\")\n",
    "clip_processor = CLIPProcessor.from_pretrained(\"openai/clip-vit-base-patch32\")\n",
    "\n",
    "# Process the image and generate CLIP embedding\n",
    "clip_inputs = clip_processor(images=reconstructed_image, return_tensors=\"pt\")\n",
    "with torch.no_grad():\n",
    "    image_embedding = clip_model.get_image_features(**clip_inputs)\n",
    "\n",
    "# Load BLIP-2 model and processor\n",
    "blip2_processor = Blip2Processor.from_pretrained(\"Salesforce/blip2-opt-2.7b\")\n",
    "blip2_model = Blip2ForConditionalGeneration.from_pretrained(\"Salesforce/blip2-opt-2.7b\")\n",
    "\n",
    "# Generate captions directly using BLIP-2\n",
    "blip2_inputs = blip2_processor(images=reconstructed_image, return_tensors=\"pt\")\n",
    "with torch.no_grad():\n",
    "    generated_ids = blip2_model.generate(**blip2_inputs)\n",
    "    caption = blip2_processor.batch_decode(generated_ids, skip_special_tokens=True)[0]\n",
    "\n",
    "print(\"Generated Caption:\", caption)\n"
   ]
  }
 ],
 "metadata": {
  "kernelspec": {
   "display_name": "Python 3",
   "language": "python",
   "name": "python3"
  },
  "language_info": {
   "codemirror_mode": {
    "name": "ipython",
    "version": 3
   },
   "file_extension": ".py",
   "mimetype": "text/x-python",
   "name": "python",
   "nbconvert_exporter": "python",
   "pygments_lexer": "ipython3",
   "version": "3.12.1"
  }
 },
 "nbformat": 4,
 "nbformat_minor": 2
}
