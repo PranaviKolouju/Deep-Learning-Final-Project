{
 "cells": [
  {
   "cell_type": "code",
   "execution_count": null,
   "metadata": {},
   "outputs": [
    {
     "name": "stderr",
     "output_type": "stream",
     "text": [
      "/Library/Frameworks/Python.framework/Versions/3.12/lib/python3.12/site-packages/tqdm/auto.py:21: TqdmWarning: IProgress not found. Please update jupyter and ipywidgets. See https://ipywidgets.readthedocs.io/en/stable/user_install.html\n",
      "  from .autonotebook import tqdm as notebook_tqdm\n"
     ]
    },
    {
     "name": "stdout",
     "output_type": "stream",
     "text": [
      "Captions saved for folder: BOLD5000_CSI1_1\n"
     ]
    }
   ],
   "source": [
    "import os\n",
    "import json\n",
    "from PIL import Image\n",
    "from transformers import AutoProcessor, AutoModelForCausalLM\n",
    "\n",
    "processor = AutoProcessor.from_pretrained(\"microsoft/git-base\")\n",
    "model = AutoModelForCausalLM.from_pretrained(\"microsoft/git-base\")\n",
    "\n",
    "parent_dir = \"../results\" \n",
    "\n",
    "for folder_name in os.listdir(parent_dir):\n",
    "    folder_path = os.path.join(parent_dir, folder_name)\n",
    "    if not os.path.isdir(folder_path):\n",
    "        continue \n",
    "\n",
    "    captions = {}\n",
    "\n",
    "    for file_name in os.listdir(folder_path):\n",
    "        if file_name.startswith(\"sample\") and file_name.endswith(\".png\"):\n",
    "            number = file_name.split(\"sample\")[1].split(\".png\")[0]\n",
    "\n",
    "            image_path = os.path.join(folder_path, file_name)\n",
    "            image = Image.open(image_path).convert(\"RGB\")\n",
    "\n",
    "            inputs = processor(images=image, return_tensors=\"pt\")\n",
    "            outputs = model.generate(**inputs, max_length=50, num_beams=5)\n",
    "            caption = processor.batch_decode(outputs, skip_special_tokens=True)[0]\n",
    "\n",
    "            captions[number] = caption\n",
    "\n",
    "    json_path = os.path.join(folder_path, f\"{folder_name}_captions.json\")\n",
    "    with open(json_path, \"w\") as json_file:\n",
    "        json.dump(captions, json_file, indent=4)\n",
    "\n",
    "    print(f\"Captions saved for folder: {folder_name}\")\n"
   ]
  }
 ],
 "metadata": {
  "kernelspec": {
   "display_name": "Python 3",
   "language": "python",
   "name": "python3"
  },
  "language_info": {
   "codemirror_mode": {
    "name": "ipython",
    "version": 3
   },
   "file_extension": ".py",
   "mimetype": "text/x-python",
   "name": "python",
   "nbconvert_exporter": "python",
   "pygments_lexer": "ipython3",
   "version": "3.12.1"
  }
 },
 "nbformat": 4,
 "nbformat_minor": 2
}
