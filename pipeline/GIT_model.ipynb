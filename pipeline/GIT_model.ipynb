{
 "cells": [
  {
   "cell_type": "code",
   "execution_count": null,
   "metadata": {},
   "outputs": [
    {
     "name": "stderr",
     "output_type": "stream",
     "text": [
      "preprocessor_config.json: 100%|██████████| 503/503 [00:00<00:00, 198kB/s]\n",
      "tokenizer_config.json: 100%|██████████| 453/453 [00:00<00:00, 1.23MB/s]\n",
      "vocab.txt: 100%|██████████| 232k/232k [00:00<00:00, 3.97MB/s]\n",
      "tokenizer.json: 100%|██████████| 711k/711k [00:00<00:00, 7.16MB/s]\n",
      "special_tokens_map.json: 100%|██████████| 125/125 [00:00<00:00, 641kB/s]\n",
      "config.json: 100%|██████████| 2.82k/2.82k [00:00<00:00, 5.06MB/s]\n",
      "model.safetensors: 100%|██████████| 707M/707M [00:15<00:00, 45.4MB/s] \n",
      "generation_config.json: 100%|██████████| 141/141 [00:00<00:00, 273kB/s]\n"
     ]
    },
    {
     "name": "stdout",
     "output_type": "stream",
     "text": [
      "Generated Caption: a koala bear sleeping on a tree branch.\n"
     ]
    }
   ],
   "source": [
    "from transformers import AutoProcessor, AutoModelForCausalLM\n",
    "from PIL import Image\n",
    "\n",
    "processor = AutoProcessor.from_pretrained(\"microsoft/git-base\")\n",
    "model = AutoModelForCausalLM.from_pretrained(\"microsoft/git-base\")\n",
    "\n",
    "image = Image.open(\"../test_images/n01882714_koala.JPEG\").convert(\"RGB\")\n",
    "\n",
    "inputs = processor(images=image, return_tensors=\"pt\")\n",
    "\n",
    "outputs = model.generate(**inputs, max_length=50, num_beams=5)\n",
    "caption = processor.batch_decode(outputs, skip_special_tokens=True)[0]\n",
    "\n",
    "print(\"Generated Caption:\", caption)"
   ]
  }
 ],
 "metadata": {
  "kernelspec": {
   "display_name": "Python 3",
   "language": "python",
   "name": "python3"
  },
  "language_info": {
   "codemirror_mode": {
    "name": "ipython",
    "version": 3
   },
   "file_extension": ".py",
   "mimetype": "text/x-python",
   "name": "python",
   "nbconvert_exporter": "python",
   "pygments_lexer": "ipython3",
   "version": "3.12.1"
  }
 },
 "nbformat": 4,
 "nbformat_minor": 2
}
