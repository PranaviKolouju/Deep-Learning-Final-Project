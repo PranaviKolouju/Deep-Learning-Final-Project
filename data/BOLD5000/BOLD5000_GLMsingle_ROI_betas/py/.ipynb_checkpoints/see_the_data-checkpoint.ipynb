{
 "cells": [
  {
   "cell_type": "code",
   "execution_count": null,
   "id": "2c7927f4-0eb4-4e10-8cc0-01db1601a00b",
   "metadata": {},
   "outputs": [],
   "source": [
    "import numpy as np\n",
    "\n",
    "# Replace 'file.npy' with the path to your .npy file\n",
    "file_path = 'CSI1_GLMbetas-TYPED-FITHRF-GLMDENOISE-RR_allses_LHEarlyVis.npy'\n",
    "\n",
    "# Load the file\n",
    "data = np.load(file_path)\n",
    "\n",
    "# Inspect the contents\n",
    "print(\"Data inside the .npy file:\")\n",
    "print(data)\n",
    "\n",
    "# Additional inspection\n",
    "print(\"\\nShape of the data:\", data.shape)\n",
    "print(\"Data type:\", data.dtype)\n"
   ]
  }
 ],
 "metadata": {
  "kernelspec": {
   "display_name": "control2",
   "language": "python",
   "name": "control"
  },
  "language_info": {
   "name": ""
  }
 },
 "nbformat": 4,
 "nbformat_minor": 5
}
